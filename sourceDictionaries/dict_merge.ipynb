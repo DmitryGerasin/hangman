{
 "cells": [
  {
   "cell_type": "code",
   "execution_count": 15,
   "metadata": {},
   "outputs": [],
   "source": [
    "import csv\n",
    "import json\n",
    "\n",
    "# reading files\n",
    "csv_file = \"/Users/ronald/Desktop/unigram_freq.csv\"\n",
    "with open(csv_file) as f:\n",
    "    dict_1 = dict(filter(None, csv.reader(f)))\n",
    "    min_freq = min(map(lambda str: int(str), dict_1.values())) # smallest frequency\n",
    "    dict_1 = dict(map(lambda elem: (elem[0], int(elem[1])//min_freq), dict_1.items())) # normalize frequencies\n",
    "\n",
    "json_file = \"/Users/ronald/Desktop/dictionary_1.json\"\n",
    "with open(json_file) as f:\n",
    "    dict_2 = dict.fromkeys(json.load(f), 1)\n",
    "    dict_2 = dict(map(lambda elem: (elem[0].lower(), elem[1]), dict_2.items()))\n",
    "\n",
    "json_file = \"/Users/ronald/Desktop/dictionary_scrabble.json\"\n",
    "with open(json_file) as f:\n",
    "    dict_3 = dict.fromkeys(json.load(f), 1)\n",
    "    dict_3 = dict(map(lambda elem: (elem[0].lower(), elem[1]), dict_3.items()))\n",
    "\n",
    "# merge dictionaries\n",
    "dictionary = dict_3 | dict_2 | dict_1\n",
    "\n",
    "# output merged dictionary to json\n",
    "# json_output = '/Users/ronald/Desktop/dict_merged.json'\n",
    "# with open(json_output, \"w\") as outfile:\n",
    "#     json.dump(dictionary, outfile, indent=3)\n",
    "\n",
    "# output array format to json\n",
    "nested_list = [[k, v] for k,v in dictionary.items()]\n",
    "json_output = '/Users/ronald/Desktop/unique_values.json'\n",
    "with open(json_output, \"w\") as outfile:\n",
    "    json.dump(nested_list, outfile)\n",
    "\n"
   ]
  }
 ],
 "metadata": {
  "kernelspec": {
   "display_name": "Python 3",
   "language": "python",
   "name": "python3"
  },
  "language_info": {
   "codemirror_mode": {
    "name": "ipython",
    "version": 3
   },
   "file_extension": ".py",
   "mimetype": "text/x-python",
   "name": "python",
   "nbconvert_exporter": "python",
   "pygments_lexer": "ipython3",
   "version": "3.10.6"
  },
  "orig_nbformat": 4,
  "vscode": {
   "interpreter": {
    "hash": "aee8b7b246df8f9039afb4144a1f6fd8d2ca17a180786b69acc140d282b71a49"
   }
  }
 },
 "nbformat": 4,
 "nbformat_minor": 2
}
